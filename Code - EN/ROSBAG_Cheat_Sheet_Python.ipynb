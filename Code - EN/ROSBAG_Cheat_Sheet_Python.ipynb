{
 "cells": [
  {
   "cell_type": "markdown",
   "id": "7270171b",
   "metadata": {},
   "source": [
    "**ROSBAG Cheat Sheet in Python**"
   ]
  },
  {
   "cell_type": "markdown",
   "id": "7a4355ce",
   "metadata": {},
   "source": [
    "There are two libraries that I found useful to open a rosbag file in a Jupyter notebook using Python: **rosbag** and **bagpy**."
   ]
  },
  {
   "cell_type": "markdown",
   "id": "d5d09e1d",
   "metadata": {},
   "source": [
    "To install them, the simplest way is to run \n",
    "```\n",
    "pip3 install bagpy\n",
    "```\n",
    "\n",
    "**Note**: The python version I used is 3.8.8 (I have seen multiple issues of Python incompatibility but this worked)"
   ]
  },
  {
   "cell_type": "code",
   "execution_count": 17,
   "id": "a314b143",
   "metadata": {},
   "outputs": [
    {
     "name": "stdout",
     "output_type": "stream",
     "text": [
      "[INFO]  Data folder LEAD_delayed_2019-09-25-19-00-01-filtered already exists. Not creating.\n"
     ]
    }
   ],
   "source": [
    "import rosbag, bagpy, datetime\n",
    "bagpy_bag = bagpy.bagreader('LEAD_delayed_2019-09-25-19-00-01-filtered.bag')\n",
    "bag = rosbag.Bag('LEAD_delayed_2019-09-25-19-00-01-filtered.bag')"
   ]
  },
  {
   "cell_type": "markdown",
   "id": "b93568c4",
   "metadata": {},
   "source": [
    "Both opened up the file but in different forms. I find they each had their advantages."
   ]
  },
  {
   "cell_type": "markdown",
   "id": "d1dbb4de",
   "metadata": {},
   "source": [
    "**List of Topics** <br>\n",
    "Reading topics from a bagreader file was cleaner and easily accessible compared to using a Bag file. "
   ]
  },
  {
   "cell_type": "code",
   "execution_count": 2,
   "id": "a7ff54be",
   "metadata": {},
   "outputs": [
    {
     "name": "stdout",
     "output_type": "stream",
     "text": [
      "                                               Topics  \\\n",
      "0               /delayed/artemisJr/centre/camera_info   \n",
      "1   /delayed/artemisJr/centre/image_rect_color/com...   \n",
      "2           /delayed/artemisJr/imageData/centrePtzCam   \n",
      "3                 /delayed/artemisJr/left/camera_info   \n",
      "4   /delayed/artemisJr/left/image_rect_color/compr...   \n",
      "5   /delayed/artemisJr/right/image_rect_color/comp...   \n",
      "6      /delayed/evo/left_polled/image_rect/compressed   \n",
      "7     /delayed/evo/right_polled/image_rect/compressed   \n",
      "8                     /delayed/lowrate_scanner/points   \n",
      "9                                  /delayed/tf_static   \n",
      "10  /delayed/trt/ws_left_polled/image_rect_color/c...   \n",
      "11  /delayed/trt/ws_right_polled/image_rect_color/...   \n",
      "12                     /delayed/trt_localization/pose   \n",
      "13              /delayed/trt_stitcher/pano/compressed   \n",
      "\n",
      "                          Types  Message Count  Frequency  \n",
      "0        sensor_msgs/CameraInfo           1338   0.999854  \n",
      "1   sensor_msgs/CompressedImage           1338   0.999076  \n",
      "2   sensor_msgs/CompressedImage           7872   0.499808  \n",
      "3        sensor_msgs/CameraInfo           1329   0.999844  \n",
      "4   sensor_msgs/CompressedImage           1329   0.999142  \n",
      "5   sensor_msgs/CompressedImage           1333   0.998735  \n",
      "6   sensor_msgs/CompressedImage             18   0.001661  \n",
      "7   sensor_msgs/CompressedImage              1        NaN  \n",
      "8       sensor_msgs/PointCloud2             15   0.003142  \n",
      "9            tf2_msgs/TFMessage              1        NaN  \n",
      "10  sensor_msgs/CompressedImage             14   0.001498  \n",
      "11  sensor_msgs/CompressedImage              9   0.001109  \n",
      "12    geometry_msgs/PoseStamped          15951   1.000029  \n",
      "13  sensor_msgs/CompressedImage              1        NaN  \n"
     ]
    }
   ],
   "source": [
    "#Topics using bagpy\n",
    "print(bagpy_bag.topic_table)"
   ]
  },
  {
   "cell_type": "code",
   "execution_count": 3,
   "id": "35b7c714",
   "metadata": {},
   "outputs": [
    {
     "name": "stdout",
     "output_type": "stream",
     "text": [
      "dict_keys(['/delayed/artemisJr/centre/camera_info', '/delayed/artemisJr/centre/image_rect_color/compressed', '/delayed/artemisJr/imageData/centrePtzCam', '/delayed/artemisJr/left/camera_info', '/delayed/artemisJr/left/image_rect_color/compressed', '/delayed/artemisJr/right/image_rect_color/compressed', '/delayed/evo/left_polled/image_rect/compressed', '/delayed/evo/right_polled/image_rect/compressed', '/delayed/lowrate_scanner/points', '/delayed/tf_static', '/delayed/trt/ws_left_polled/image_rect_color/compressed', '/delayed/trt/ws_right_polled/image_rect_color/compressed', '/delayed/trt_localization/pose', '/delayed/trt_stitcher/pano/compressed'])\n"
     ]
    }
   ],
   "source": [
    "#Topics using rosbag\n",
    "topics = bag.get_type_and_topic_info()[1].keys()\n",
    "types = []\n",
    "for val in bag.get_type_and_topic_info()[1].values():\n",
    "    types.append(val[0])\n",
    "print(topics)"
   ]
  },
  {
   "cell_type": "markdown",
   "id": "64e46d41",
   "metadata": {},
   "source": [
    "**Extracting messages**"
   ]
  },
  {
   "cell_type": "markdown",
   "id": "8d1c80f3",
   "metadata": {},
   "source": [
    "I was also able to easily extract csv files using bagpy but could not find a way to do the same using rosbag."
   ]
  },
  {
   "cell_type": "code",
   "execution_count": 4,
   "id": "f84ac083",
   "metadata": {},
   "outputs": [
    {
     "data": {
      "text/html": [
       "<div>\n",
       "<style scoped>\n",
       "    .dataframe tbody tr th:only-of-type {\n",
       "        vertical-align: middle;\n",
       "    }\n",
       "\n",
       "    .dataframe tbody tr th {\n",
       "        vertical-align: top;\n",
       "    }\n",
       "\n",
       "    .dataframe thead th {\n",
       "        text-align: right;\n",
       "    }\n",
       "</style>\n",
       "<table border=\"1\" class=\"dataframe\">\n",
       "  <thead>\n",
       "    <tr style=\"text-align: right;\">\n",
       "      <th></th>\n",
       "      <th>Time</th>\n",
       "      <th>header.seq</th>\n",
       "      <th>header.stamp.secs</th>\n",
       "      <th>header.stamp.nsecs</th>\n",
       "      <th>header.frame_id</th>\n",
       "      <th>height</th>\n",
       "      <th>width</th>\n",
       "      <th>distortion_model</th>\n",
       "      <th>D_0</th>\n",
       "      <th>D_1</th>\n",
       "      <th>...</th>\n",
       "      <th>P_9</th>\n",
       "      <th>P_10</th>\n",
       "      <th>P_11</th>\n",
       "      <th>binning_x</th>\n",
       "      <th>binning_y</th>\n",
       "      <th>roi.x_offset</th>\n",
       "      <th>roi.y_offset</th>\n",
       "      <th>roi.height</th>\n",
       "      <th>roi.width</th>\n",
       "      <th>roi.do_rectify</th>\n",
       "    </tr>\n",
       "  </thead>\n",
       "  <tbody>\n",
       "    <tr>\n",
       "      <th>0</th>\n",
       "      <td>1.569452e+09</td>\n",
       "      <td>1</td>\n",
       "      <td>1569452267</td>\n",
       "      <td>390683889</td>\n",
       "      <td>/axis_camera</td>\n",
       "      <td>480</td>\n",
       "      <td>640</td>\n",
       "      <td>plumb_bob</td>\n",
       "      <td>-0.229407</td>\n",
       "      <td>0.037254</td>\n",
       "      <td>...</td>\n",
       "      <td>0.0</td>\n",
       "      <td>1.0</td>\n",
       "      <td>0.0</td>\n",
       "      <td>0</td>\n",
       "      <td>0</td>\n",
       "      <td>0</td>\n",
       "      <td>0</td>\n",
       "      <td>0</td>\n",
       "      <td>0</td>\n",
       "      <td>False</td>\n",
       "    </tr>\n",
       "    <tr>\n",
       "      <th>1</th>\n",
       "      <td>1.569455e+09</td>\n",
       "      <td>2</td>\n",
       "      <td>1569454496</td>\n",
       "      <td>488482952</td>\n",
       "      <td>/axis_camera</td>\n",
       "      <td>480</td>\n",
       "      <td>640</td>\n",
       "      <td>plumb_bob</td>\n",
       "      <td>-0.229407</td>\n",
       "      <td>0.037254</td>\n",
       "      <td>...</td>\n",
       "      <td>0.0</td>\n",
       "      <td>1.0</td>\n",
       "      <td>0.0</td>\n",
       "      <td>0</td>\n",
       "      <td>0</td>\n",
       "      <td>0</td>\n",
       "      <td>0</td>\n",
       "      <td>0</td>\n",
       "      <td>0</td>\n",
       "      <td>False</td>\n",
       "    </tr>\n",
       "    <tr>\n",
       "      <th>2</th>\n",
       "      <td>1.569455e+09</td>\n",
       "      <td>3</td>\n",
       "      <td>1569455429</td>\n",
       "      <td>276626110</td>\n",
       "      <td>/axis_camera</td>\n",
       "      <td>480</td>\n",
       "      <td>640</td>\n",
       "      <td>plumb_bob</td>\n",
       "      <td>-0.229407</td>\n",
       "      <td>0.037254</td>\n",
       "      <td>...</td>\n",
       "      <td>0.0</td>\n",
       "      <td>1.0</td>\n",
       "      <td>0.0</td>\n",
       "      <td>0</td>\n",
       "      <td>0</td>\n",
       "      <td>0</td>\n",
       "      <td>0</td>\n",
       "      <td>0</td>\n",
       "      <td>0</td>\n",
       "      <td>False</td>\n",
       "    </tr>\n",
       "    <tr>\n",
       "      <th>3</th>\n",
       "      <td>1.569455e+09</td>\n",
       "      <td>4</td>\n",
       "      <td>1569455430</td>\n",
       "      <td>279575109</td>\n",
       "      <td>/axis_camera</td>\n",
       "      <td>480</td>\n",
       "      <td>640</td>\n",
       "      <td>plumb_bob</td>\n",
       "      <td>-0.229407</td>\n",
       "      <td>0.037254</td>\n",
       "      <td>...</td>\n",
       "      <td>0.0</td>\n",
       "      <td>1.0</td>\n",
       "      <td>0.0</td>\n",
       "      <td>0</td>\n",
       "      <td>0</td>\n",
       "      <td>0</td>\n",
       "      <td>0</td>\n",
       "      <td>0</td>\n",
       "      <td>0</td>\n",
       "      <td>False</td>\n",
       "    </tr>\n",
       "    <tr>\n",
       "      <th>4</th>\n",
       "      <td>1.569455e+09</td>\n",
       "      <td>5</td>\n",
       "      <td>1569455431</td>\n",
       "      <td>279694080</td>\n",
       "      <td>/axis_camera</td>\n",
       "      <td>480</td>\n",
       "      <td>640</td>\n",
       "      <td>plumb_bob</td>\n",
       "      <td>-0.229407</td>\n",
       "      <td>0.037254</td>\n",
       "      <td>...</td>\n",
       "      <td>0.0</td>\n",
       "      <td>1.0</td>\n",
       "      <td>0.0</td>\n",
       "      <td>0</td>\n",
       "      <td>0</td>\n",
       "      <td>0</td>\n",
       "      <td>0</td>\n",
       "      <td>0</td>\n",
       "      <td>0</td>\n",
       "      <td>False</td>\n",
       "    </tr>\n",
       "  </tbody>\n",
       "</table>\n",
       "<p>5 rows × 50 columns</p>\n",
       "</div>"
      ],
      "text/plain": [
       "           Time  header.seq  header.stamp.secs  header.stamp.nsecs  \\\n",
       "0  1.569452e+09           1         1569452267           390683889   \n",
       "1  1.569455e+09           2         1569454496           488482952   \n",
       "2  1.569455e+09           3         1569455429           276626110   \n",
       "3  1.569455e+09           4         1569455430           279575109   \n",
       "4  1.569455e+09           5         1569455431           279694080   \n",
       "\n",
       "  header.frame_id  height  width distortion_model       D_0       D_1  ...  \\\n",
       "0    /axis_camera     480    640        plumb_bob -0.229407  0.037254  ...   \n",
       "1    /axis_camera     480    640        plumb_bob -0.229407  0.037254  ...   \n",
       "2    /axis_camera     480    640        plumb_bob -0.229407  0.037254  ...   \n",
       "3    /axis_camera     480    640        plumb_bob -0.229407  0.037254  ...   \n",
       "4    /axis_camera     480    640        plumb_bob -0.229407  0.037254  ...   \n",
       "\n",
       "   P_9  P_10  P_11  binning_x  binning_y  roi.x_offset  roi.y_offset  \\\n",
       "0  0.0   1.0   0.0          0          0             0             0   \n",
       "1  0.0   1.0   0.0          0          0             0             0   \n",
       "2  0.0   1.0   0.0          0          0             0             0   \n",
       "3  0.0   1.0   0.0          0          0             0             0   \n",
       "4  0.0   1.0   0.0          0          0             0             0   \n",
       "\n",
       "   roi.height  roi.width  roi.do_rectify  \n",
       "0           0          0           False  \n",
       "1           0          0           False  \n",
       "2           0          0           False  \n",
       "3           0          0           False  \n",
       "4           0          0           False  \n",
       "\n",
       "[5 rows x 50 columns]"
      ]
     },
     "execution_count": 4,
     "metadata": {},
     "output_type": "execute_result"
    }
   ],
   "source": [
    "import pandas as pd\n",
    "Camera_info_left_msg = bagpy_bag.message_by_topic('/delayed/artemisJr/left/camera_info')\n",
    "df_CAMERA_LEFT = pd.read_csv(Camera_info_left_msg) #Left camera calibration\n",
    "\n",
    "df_CAMERA_LEFT.head(5)"
   ]
  },
  {
   "cell_type": "markdown",
   "id": "5ed1ad61",
   "metadata": {},
   "source": [
    "However, rosbag proved useful when one needed to loop through messages in a bag, and access specific parts of messages. <br>\n",
    "For example, if I want to get the timestamps of images with the topic */delayed/trt/ws_right_polled/image_rect_color/compressed*:"
   ]
  },
  {
   "cell_type": "code",
   "execution_count": 18,
   "id": "01277360",
   "metadata": {},
   "outputs": [
    {
     "name": "stdout",
     "output_type": "stream",
     "text": [
      "2019_09_25-16_49_34\n",
      "2019_09_25-17_14_38\n",
      "2019_09_25-17_18_56\n",
      "2019_09_25-17_42_26\n",
      "2019_09_25-18_22_15\n",
      "2019_09_25-18_26_00\n",
      "2019_09_25-18_28_20\n",
      "2019_09_25-18_34_54\n",
      "2019_09_25-19_03_30\n"
     ]
    }
   ],
   "source": [
    "for message in bag:\n",
    "    if message[0] == \"/delayed/trt/ws_right_polled/image_rect_color/compressed\": \n",
    "        timestamp = datetime.datetime.fromtimestamp(message[2].to_sec()).strftime(\"%Y_%m_%d-%H_%M_%S\") \n",
    "        print(timestamp)"
   ]
  },
  {
   "cell_type": "markdown",
   "id": "1ecf93d4",
   "metadata": {},
   "source": [
    "You can typically access a message topic \n",
    "```\n",
    "print(message[0])\n",
    "```\n",
    ">/delayed/trt_localization/pose\n",
    "\n",
    "You can access the header and more (position, data, depending on the message type)\n",
    "```\n",
    "print(message[1])\n",
    "```\n",
    "\n",
    ">```\n",
    "header: \n",
    "  seq: 17028\n",
    "  stamp: \n",
    "    secs: 1569468346\n",
    "    nsecs: 465568065\n",
    "  frame_id: \"map\"\n",
    "pose: \n",
    "  position: \n",
    "    x: -85.49633974238243\n",
    "    y: 7.322373946917995\n",
    "    z: -0.36845247589603397\n",
    "  orientation: \n",
    "    x: -0.002977009520887292\n",
    "    y: 0.0028634341765548174\n",
    "    z: 0.9999765338832188\n",
    "    w: 0.005465330907904111\n",
    "\n",
    "\n",
    "And finally, the timestamp of the message can be obtained\n",
    "```\n",
    "print(message[2])\n",
    "```\n",
    "> ```\n",
    "1569468351487230074\n",
    "```\n"
   ]
  }
 ],
 "metadata": {
  "kernelspec": {
   "display_name": "Jeysh",
   "language": "python",
   "name": "jeysh"
  },
  "language_info": {
   "codemirror_mode": {
    "name": "ipython",
    "version": 3
   },
   "file_extension": ".py",
   "mimetype": "text/x-python",
   "name": "python",
   "nbconvert_exporter": "python",
   "pygments_lexer": "ipython3",
   "version": "3.8.8"
  }
 },
 "nbformat": 4,
 "nbformat_minor": 5
}
