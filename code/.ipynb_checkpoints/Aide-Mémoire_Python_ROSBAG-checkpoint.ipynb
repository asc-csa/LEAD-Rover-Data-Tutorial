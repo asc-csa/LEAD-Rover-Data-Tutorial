{
 "cells": [
  {
   "cell_type": "markdown",
   "id": "7270171b",
   "metadata": {},
   "source": [
    "**Aide-Mémoire ROSBAG en Python**"
   ]
  },
  {
   "cell_type": "markdown",
   "id": "7a4355ce",
   "metadata": {},
   "source": [
    "Il y a deux bibliothèques que j'ai trouvées utiles pour ouvrir un fichier rosbag dans un notebook Jupyter en utilisant Python : **rosbag** et **bagpy**."
   ]
  },
  {
   "cell_type": "markdown",
   "id": "d5d09e1d",
   "metadata": {},
   "source": [
    "Pour les installer, la façon la plus simple est d'exécuter\n",
    "```\n",
    "pip3 install bagpy\n",
    "```\n",
    "\n",
    "**Note** : La version de Python que j'ai utilisée est 3.8.8 (J'ai vu plusieurs problèmes d'incompatibilité Python mais cela a fonctionné)"
   ]
  },
  {
   "cell_type": "code",
   "execution_count": null,
   "id": "a314b143",
   "metadata": {},
   "outputs": [],
   "source": [
    "import rosbag, bagpy, datetime\n",
    "bagpy_bag = bagpy.bagreader('LEAD_delayed_2019-09-25-19-00-01-filtered.bag')\n",
    "bag = rosbag.Bag('LEAD_delayed_2019-09-25-19-00-01-filtered.bag')"
   ]
  },
  {
   "cell_type": "markdown",
   "id": "b93568c4",
   "metadata": {},
   "source": [
    "Les deux ont ouvert le fichier mais sous différentes formes. Je trouve qu'elles ont chacune leurs avantages."
   ]
  },
  {
   "cell_type": "markdown",
   "id": "d1dbb4de",
   "metadata": {},
   "source": [
    "**Liste des Sujets** <br>\n",
    "Lire les sujets d'un fichier bagreader était plus propre et facilement accessible comparé à l'utilisation d'un fichier Bag."
   ]
  },
  {
   "cell_type": "code",
   "execution_count": null,
   "id": "a7ff54be",
   "metadata": {},
   "outputs": [],
   "source": [
    "#Topics using bagpy\n",
    "print(bagpy_bag.topic_table)"
   ]
  },
  {
   "cell_type": "code",
   "execution_count": null,
   "id": "35b7c714",
   "metadata": {},
   "outputs": [],
   "source": [
    "#Topics using rosbag\n",
    "topics = bag.get_type_and_topic_info()[1].keys()\n",
    "types = []\n",
    "for val in bag.get_type_and_topic_info()[1].values():\n",
    "    types.append(val[0])\n",
    "print(topics)"
   ]
  },
  {
   "cell_type": "markdown",
   "id": "64e46d41",
   "metadata": {},
   "source": [
    "**Extraction de messages**"
   ]
  },
  {
   "cell_type": "markdown",
   "id": "8d1c80f3",
   "metadata": {},
   "source": [
    "J'ai également pu facilement extraire des fichiers csv en utilisant bagpy mais je n'ai pas pu trouver un moyen de faire la même chose en utilisant rosbag."
   ]
  },
  {
   "cell_type": "code",
   "execution_count": null,
   "id": "f84ac083",
   "metadata": {},
   "outputs": [],
   "source": [
    "import pandas as pd\n",
    "Camera_info_left_msg = bagpy_bag.message_by_topic('/delayed/artemisJr/left/camera_info')\n",
    "df_CAMERA_LEFT = pd.read_csv(Camera_info_left_msg) #Left camera calibration\n",
    "\n",
    "df_CAMERA_LEFT.head(5)"
   ]
  },
  {
   "cell_type": "markdown",
   "id": "5ed1ad61",
   "metadata": {},
   "source": [
    "Cependant, rosbag s'est révélé utile lorsqu'on avait besoin de parcourir les messages dans un sac, et d'accéder à des parties spécifiques des messages. <br>\n",
    "Par exemple, si je veux obtenir les horodatages d'images avec le sujet */delayed/trt/ws_right_polled/image_rect_color/compressed* :"
   ]
  },
  {
   "cell_type": "code",
   "execution_count": null,
   "id": "01277360",
   "metadata": {},
   "outputs": [],
   "source": [
    "for message in bag:\n",
    "    if message[0] == \"/delayed/trt/ws_right_polled/image_rect_color/compressed\": \n",
    "        timestamp = datetime.datetime.fromtimestamp(message[2].to_sec()).strftime(\"%Y_%m_%d-%H_%M_%S\") \n",
    "        print(timestamp)"
   ]
  },
  {
   "cell_type": "markdown",
   "id": "1ecf93d4",
   "metadata": {},
   "source": [
    "Vous pouvez généralement accéder à un sujet de message\n",
    "```\n",
    "print(message[0])\n",
    "```\n",
    ">/delayed/trt_localization/pose\n",
    "\n",
    "Vous pouvez accéder à l'en-tête et plus (position, données, selon le type de message)\n",
    "```\n",
    "print(message[1])\n",
    "```\n",
    "\n",
    ">```\n",
    "header: \n",
    "  seq: 17028\n",
    "  stamp: \n",
    "    secs: 1569468346\n",
    "    nsecs: 465568065\n",
    "  frame_id: \"map\"\n",
    "pose: \n",
    "  position: \n",
    "    x: -85.49633974238243\n",
    "    y: 7.322373946917995\n",
    "    z: -0.36845247589603397\n",
    "  orientation: \n",
    "    x: -0.002977009520887292\n",
    "    y: 0.0028634341765548174\n",
    "    z: 0.9999765338832188\n",
    "    w: 0.005465330907904111\n",
    "\n",
    "\n",
    "Et enfin, l'horodatage du message peut être obtenu\n",
    "```\n",
    "print(message[2])\n",
    "```\n",
    "> ```\n",
    "1569468351487230074\n",
    "```"
   ]
  }
 ],
 "metadata": {
  "kernelspec": {
   "display_name": "Python 3",
   "language": "python",
   "name": "python3"
  },
  "language_info": {
   "codemirror_mode": {
    "name": "ipython",
    "version": 3
   },
   "file_extension": ".py",
   "mimetype": "text/x-python",
   "name": "python",
   "nbconvert_exporter": "python",
   "pygments_lexer": "ipython3",
   "version": "3.8.5"
  }
 },
 "nbformat": 4,
 "nbformat_minor": 4
}